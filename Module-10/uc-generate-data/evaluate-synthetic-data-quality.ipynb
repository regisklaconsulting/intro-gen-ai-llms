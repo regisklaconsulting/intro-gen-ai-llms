{
 "cells": [
  {
   "cell_type": "markdown",
   "id": "91e5a555-6138-43ec-8319-b5f829031f62",
   "metadata": {},
   "source": [
    "# Evaluate Synthetic Data Quality"
   ]
  },
  {
   "cell_type": "markdown",
   "id": "99d56589-b9e4-47ac-9ae6-f052d0b8b011",
   "metadata": {},
   "source": [
    "## Problem\n",
    "\n",
    "Gemini has been used to generate some synthetic data ressembling to the training data we have. \n",
    "Now, before using it, we need to evaluate the \"quality\" of the generated data: \n",
    "- Does it has the same distribution than the genuine one,\n",
    "- etc\n",
    "\n",
    ">__Note:__ Confer to the documentation of this repository to see the prompts and code source used to generate these data.\n",
    "\n",
    "## Process\n",
    "\n",
    "We compare the porbability distribution of the data for one single day with the one of the synthetic data for a single day.\n"
   ]
  },
  {
   "cell_type": "markdown",
   "id": "041d55bf-99d4-43b9-98f7-ec34f5cee509",
   "metadata": {},
   "source": [
    "## Imports"
   ]
  },
  {
   "cell_type": "code",
   "execution_count": 16,
   "id": "6d80743e-a6e4-45be-a207-83efe5f99afe",
   "metadata": {},
   "outputs": [],
   "source": [
    "import os\n",
    "import json\n",
    "import math\n",
    "import pandas as pd\n",
    "import numpy as np ; np.random.seed(42)\n",
    "import matplotlib.pyplot as plt\n",
    "from datetime import datetime\n",
    "\n",
    "%matplotlib inline "
   ]
  },
  {
   "cell_type": "markdown",
   "id": "340763de-c093-4748-aa4e-8242cb3e0446",
   "metadata": {},
   "source": [
    "## Globals"
   ]
  },
  {
   "cell_type": "code",
   "execution_count": 17,
   "id": "1b55a0c3-75c9-4b87-a638-bed26a738e05",
   "metadata": {},
   "outputs": [
    {
     "data": {
      "text/plain": [
       "('/home/kla/Workspace/ml/poc-scanning/poc-ia-predict-truck-flow-scanning-systems/notebooks/data',\n",
       " 'pcj-raw-data',\n",
       " 'Data_PCJ_Datanalytix_passage_camions_01_05_2023.csv')"
      ]
     },
     "execution_count": 17,
     "metadata": {},
     "output_type": "execute_result"
    }
   ],
   "source": [
    "TOP_DATA_DIR = os.path.join(os.getcwd(), \"data\")\n",
    "os.makedirs(TOP_DATA_DIR, exist_ok = True)\n",
    "\n",
    "# genuine \n",
    "GENUINE_DATA_DIR = \"pcj-raw-data\"\n",
    "GENUINE_DATA_FILENAME = \"Data_PCJ_Datanalytix_passage_camions_01_05_2023.csv\"\n",
    "\n",
    "# synthetic \n",
    "SYNTHETIC_DATA_DIR = \"gemini-generated-data\"\n",
    "# SYNTHETIC_DATA_FILENAME = \"synthetic_business_data_20-03-2025.csv\" # v2\n",
    "SYNTHETIC_DATA_FILENAME = \"synthetic_business_data_v3_20-03-2025.csv\" # v3\n",
    "\n",
    "# Synthesis\n",
    "TOP_DATA_DIR, GENUINE_DATA_DIR, GENUINE_DATA_FILENAME"
   ]
  },
  {
   "cell_type": "markdown",
   "id": "7865e759-e713-4b8b-8654-a5442739ef38",
   "metadata": {},
   "source": [
    "## Load data"
   ]
  },
  {
   "cell_type": "code",
   "execution_count": 18,
   "id": "da39ef76-6dc2-4de5-8cf0-0ab306b5d7e1",
   "metadata": {},
   "outputs": [
    {
     "data": {
      "text/html": [
       "<div>\n",
       "<style scoped>\n",
       "    .dataframe tbody tr th:only-of-type {\n",
       "        vertical-align: middle;\n",
       "    }\n",
       "\n",
       "    .dataframe tbody tr th {\n",
       "        vertical-align: top;\n",
       "    }\n",
       "\n",
       "    .dataframe thead th {\n",
       "        text-align: right;\n",
       "    }\n",
       "</style>\n",
       "<table border=\"1\" class=\"dataframe\">\n",
       "  <thead>\n",
       "    <tr style=\"text-align: right;\">\n",
       "      <th></th>\n",
       "      <th>Camion ID</th>\n",
       "      <th>PCJ ID</th>\n",
       "      <th>Heure Arrivée</th>\n",
       "      <th>Heure Départ</th>\n",
       "      <th>Destination</th>\n",
       "      <th>Origine</th>\n",
       "      <th>Categorie</th>\n",
       "    </tr>\n",
       "  </thead>\n",
       "  <tbody>\n",
       "    <tr>\n",
       "      <th>0</th>\n",
       "      <td>289144</td>\n",
       "      <td>1</td>\n",
       "      <td>2023-01-05 05:43:20</td>\n",
       "      <td>2023-01-05 09:27:14</td>\n",
       "      <td>Burkina Faso</td>\n",
       "      <td>Togo</td>\n",
       "      <td>Camion plein</td>\n",
       "    </tr>\n",
       "    <tr>\n",
       "      <th>1</th>\n",
       "      <td>152658</td>\n",
       "      <td>1</td>\n",
       "      <td>2023-01-05 05:46:45</td>\n",
       "      <td>2023-01-05 08:22:17</td>\n",
       "      <td>Burkina Faso</td>\n",
       "      <td>Togo</td>\n",
       "      <td>Camion plein</td>\n",
       "    </tr>\n",
       "    <tr>\n",
       "      <th>2</th>\n",
       "      <td>454460</td>\n",
       "      <td>1</td>\n",
       "      <td>2023-01-05 05:50:36</td>\n",
       "      <td>2023-01-05 09:35:02</td>\n",
       "      <td>Burkina Faso</td>\n",
       "      <td>Togo</td>\n",
       "      <td>Autocar de 56 Ã  75 places</td>\n",
       "    </tr>\n",
       "    <tr>\n",
       "      <th>3</th>\n",
       "      <td>82730</td>\n",
       "      <td>1</td>\n",
       "      <td>2023-01-05 05:52:00</td>\n",
       "      <td>2023-01-05 09:31:55</td>\n",
       "      <td>Burkina Faso</td>\n",
       "      <td>Togo</td>\n",
       "      <td>Camion plein</td>\n",
       "    </tr>\n",
       "    <tr>\n",
       "      <th>4</th>\n",
       "      <td>82517</td>\n",
       "      <td>1</td>\n",
       "      <td>2023-01-05 05:52:24</td>\n",
       "      <td>2023-07-05 10:18:41</td>\n",
       "      <td>Burkina Faso</td>\n",
       "      <td>Togo</td>\n",
       "      <td>Camion plein</td>\n",
       "    </tr>\n",
       "  </tbody>\n",
       "</table>\n",
       "</div>"
      ],
      "text/plain": [
       "   Camion ID  PCJ ID       Heure Arrivée        Heure Départ   Destination  \\\n",
       "0     289144       1 2023-01-05 05:43:20 2023-01-05 09:27:14  Burkina Faso   \n",
       "1     152658       1 2023-01-05 05:46:45 2023-01-05 08:22:17  Burkina Faso   \n",
       "2     454460       1 2023-01-05 05:50:36 2023-01-05 09:35:02  Burkina Faso   \n",
       "3      82730       1 2023-01-05 05:52:00 2023-01-05 09:31:55  Burkina Faso   \n",
       "4      82517       1 2023-01-05 05:52:24 2023-07-05 10:18:41  Burkina Faso   \n",
       "\n",
       "  Origine                   Categorie  \n",
       "0    Togo                Camion plein  \n",
       "1    Togo                Camion plein  \n",
       "2    Togo  Autocar de 56 Ã  75 places  \n",
       "3    Togo                Camion plein  \n",
       "4    Togo                Camion plein  "
      ]
     },
     "execution_count": 18,
     "metadata": {},
     "output_type": "execute_result"
    }
   ],
   "source": [
    "# genuine \n",
    "genuine_data = pd.read_csv(filepath_or_buffer=os.path.join(TOP_DATA_DIR, GENUINE_DATA_DIR, GENUINE_DATA_FILENAME), sep=\",\")\n",
    "genuine_data = genuine_data.astype({\"Heure Arrivée\": \"datetime64[ns]\", \"Heure Départ\": \"datetime64[ns]\"})\n",
    "genuine_data = genuine_data.sort_values(\"Heure Arrivée\", ascending=True)\n",
    "genuine_data.head()"
   ]
  },
  {
   "cell_type": "code",
   "execution_count": 19,
   "id": "edf2705a-23ed-4236-8c2d-474af6c81c3d",
   "metadata": {},
   "outputs": [
    {
     "data": {
      "text/html": [
       "<div>\n",
       "<style scoped>\n",
       "    .dataframe tbody tr th:only-of-type {\n",
       "        vertical-align: middle;\n",
       "    }\n",
       "\n",
       "    .dataframe tbody tr th {\n",
       "        vertical-align: top;\n",
       "    }\n",
       "\n",
       "    .dataframe thead th {\n",
       "        text-align: right;\n",
       "    }\n",
       "</style>\n",
       "<table border=\"1\" class=\"dataframe\">\n",
       "  <thead>\n",
       "    <tr style=\"text-align: right;\">\n",
       "      <th></th>\n",
       "      <th>Camion ID</th>\n",
       "      <th>PCJ ID</th>\n",
       "      <th>Heure Arrivée</th>\n",
       "      <th>Heure Départ</th>\n",
       "      <th>Destination</th>\n",
       "      <th>Origine</th>\n",
       "      <th>Categorie</th>\n",
       "    </tr>\n",
       "  </thead>\n",
       "  <tbody>\n",
       "    <tr>\n",
       "      <th>483</th>\n",
       "      <td>4525</td>\n",
       "      <td>1</td>\n",
       "      <td>2025-03-20 05:05:17</td>\n",
       "      <td>2025-03-20 13:58:55</td>\n",
       "      <td>Burkina Faso</td>\n",
       "      <td>Togo</td>\n",
       "      <td>Camion plein</td>\n",
       "    </tr>\n",
       "    <tr>\n",
       "      <th>270</th>\n",
       "      <td>4838</td>\n",
       "      <td>1</td>\n",
       "      <td>2025-03-20 05:05:54</td>\n",
       "      <td>2025-03-20 10:32:24</td>\n",
       "      <td>Burkina Faso</td>\n",
       "      <td>Togo</td>\n",
       "      <td>Autocar de 36 à 55 places</td>\n",
       "    </tr>\n",
       "    <tr>\n",
       "      <th>184</th>\n",
       "      <td>3210</td>\n",
       "      <td>1</td>\n",
       "      <td>2025-03-20 05:08:23</td>\n",
       "      <td>2025-03-20 12:22:03</td>\n",
       "      <td>Burkina Faso</td>\n",
       "      <td>Togo</td>\n",
       "      <td>Camion plein</td>\n",
       "    </tr>\n",
       "    <tr>\n",
       "      <th>591</th>\n",
       "      <td>8403</td>\n",
       "      <td>2</td>\n",
       "      <td>2025-03-20 05:09:23</td>\n",
       "      <td>2025-03-20 15:14:53</td>\n",
       "      <td>Togo</td>\n",
       "      <td>Burkina Faso</td>\n",
       "      <td>Autocar de 15 à 35 places</td>\n",
       "    </tr>\n",
       "    <tr>\n",
       "      <th>546</th>\n",
       "      <td>9931</td>\n",
       "      <td>2</td>\n",
       "      <td>2025-03-20 05:10:43</td>\n",
       "      <td>2025-03-20 13:40:17</td>\n",
       "      <td>Togo</td>\n",
       "      <td>Burkina Faso</td>\n",
       "      <td>Camion vide</td>\n",
       "    </tr>\n",
       "  </tbody>\n",
       "</table>\n",
       "</div>"
      ],
      "text/plain": [
       "     Camion ID  PCJ ID       Heure Arrivée        Heure Départ   Destination  \\\n",
       "483       4525       1 2025-03-20 05:05:17 2025-03-20 13:58:55  Burkina Faso   \n",
       "270       4838       1 2025-03-20 05:05:54 2025-03-20 10:32:24  Burkina Faso   \n",
       "184       3210       1 2025-03-20 05:08:23 2025-03-20 12:22:03  Burkina Faso   \n",
       "591       8403       2 2025-03-20 05:09:23 2025-03-20 15:14:53          Togo   \n",
       "546       9931       2 2025-03-20 05:10:43 2025-03-20 13:40:17          Togo   \n",
       "\n",
       "          Origine                  Categorie  \n",
       "483          Togo               Camion plein  \n",
       "270          Togo  Autocar de 36 à 55 places  \n",
       "184          Togo               Camion plein  \n",
       "591  Burkina Faso  Autocar de 15 à 35 places  \n",
       "546  Burkina Faso                Camion vide  "
      ]
     },
     "execution_count": 19,
     "metadata": {},
     "output_type": "execute_result"
    }
   ],
   "source": [
    "# synthetic: data are not sorted... \n",
    "synthetic_data = pd.read_csv(filepath_or_buffer=os.path.join(TOP_DATA_DIR, SYNTHETIC_DATA_DIR, SYNTHETIC_DATA_FILENAME), sep=\",\")\n",
    "synthetic_data = synthetic_data.astype({\"Heure Arrivée\": \"datetime64[ns]\", \"Heure Départ\": \"datetime64[ns]\"})\n",
    "synthetic_data = synthetic_data.sort_values(\"Heure Arrivée\", ascending=True)\n",
    "synthetic_data.head()"
   ]
  },
  {
   "cell_type": "markdown",
   "id": "ba73878c-1809-4630-8e15-33e5d0ae2537",
   "metadata": {},
   "source": [
    "__Shapes__"
   ]
  },
  {
   "cell_type": "code",
   "execution_count": 20,
   "id": "e56dc038-9304-4676-8098-50d688e75153",
   "metadata": {},
   "outputs": [
    {
     "data": {
      "text/plain": [
       "((718, 7), (964, 7))"
      ]
     },
     "execution_count": 20,
     "metadata": {},
     "output_type": "execute_result"
    }
   ],
   "source": [
    "genuine_data.shape, synthetic_data.shape"
   ]
  },
  {
   "cell_type": "markdown",
   "id": "4ff48316-af5f-4d3e-9cc7-2c9481cb51ee",
   "metadata": {},
   "source": [
    "## Transform and plot to compare"
   ]
  },
  {
   "cell_type": "markdown",
   "id": "a502a09a-705b-4b52-9283-42e5f3636b90",
   "metadata": {},
   "source": [
    "__Genuine__"
   ]
  },
  {
   "cell_type": "code",
   "execution_count": 21,
   "id": "4a302b4f-7dff-4582-b5bf-cf798f0a0714",
   "metadata": {},
   "outputs": [
    {
     "data": {
      "text/html": [
       "<div>\n",
       "<style scoped>\n",
       "    .dataframe tbody tr th:only-of-type {\n",
       "        vertical-align: middle;\n",
       "    }\n",
       "\n",
       "    .dataframe tbody tr th {\n",
       "        vertical-align: top;\n",
       "    }\n",
       "\n",
       "    .dataframe thead th {\n",
       "        text-align: right;\n",
       "    }\n",
       "</style>\n",
       "<table border=\"1\" class=\"dataframe\">\n",
       "  <thead>\n",
       "    <tr style=\"text-align: right;\">\n",
       "      <th></th>\n",
       "      <th>Heure Arrivée</th>\n",
       "      <th>Categorie</th>\n",
       "    </tr>\n",
       "  </thead>\n",
       "  <tbody>\n",
       "    <tr>\n",
       "      <th>0</th>\n",
       "      <td>2023-01-05 05:43:20</td>\n",
       "      <td>vehicle</td>\n",
       "    </tr>\n",
       "    <tr>\n",
       "      <th>1</th>\n",
       "      <td>2023-01-05 05:46:45</td>\n",
       "      <td>vehicle</td>\n",
       "    </tr>\n",
       "    <tr>\n",
       "      <th>2</th>\n",
       "      <td>2023-01-05 05:50:36</td>\n",
       "      <td>vehicle</td>\n",
       "    </tr>\n",
       "    <tr>\n",
       "      <th>3</th>\n",
       "      <td>2023-01-05 05:52:00</td>\n",
       "      <td>vehicle</td>\n",
       "    </tr>\n",
       "    <tr>\n",
       "      <th>4</th>\n",
       "      <td>2023-01-05 05:52:24</td>\n",
       "      <td>vehicle</td>\n",
       "    </tr>\n",
       "  </tbody>\n",
       "</table>\n",
       "</div>"
      ],
      "text/plain": [
       "        Heure Arrivée Categorie\n",
       "0 2023-01-05 05:43:20   vehicle\n",
       "1 2023-01-05 05:46:45   vehicle\n",
       "2 2023-01-05 05:50:36   vehicle\n",
       "3 2023-01-05 05:52:00   vehicle\n",
       "4 2023-01-05 05:52:24   vehicle"
      ]
     },
     "execution_count": 21,
     "metadata": {},
     "output_type": "execute_result"
    }
   ],
   "source": [
    "# merge vehicle categories  \n",
    "genuine_data = genuine_data.drop([\"Camion ID\", \"PCJ ID\", \"Heure Départ\", \"Destination\", \"Origine\"], axis=\"columns\", errors=\"ignore\")\n",
    "genuine_data = genuine_data.astype({\"Categorie\": \"category\"})\n",
    "genuine_data[\"Categorie\"] = \"vehicle\"\n",
    "genuine_data.head()"
   ]
  },
  {
   "cell_type": "code",
   "execution_count": 22,
   "id": "89ce0235-7d37-48f6-9be8-cb4fb6c89eb5",
   "metadata": {},
   "outputs": [
    {
     "data": {
      "text/html": [
       "<div>\n",
       "<style scoped>\n",
       "    .dataframe tbody tr th:only-of-type {\n",
       "        vertical-align: middle;\n",
       "    }\n",
       "\n",
       "    .dataframe tbody tr th {\n",
       "        vertical-align: top;\n",
       "    }\n",
       "\n",
       "    .dataframe thead th {\n",
       "        text-align: right;\n",
       "    }\n",
       "</style>\n",
       "<table border=\"1\" class=\"dataframe\">\n",
       "  <thead>\n",
       "    <tr style=\"text-align: right;\">\n",
       "      <th></th>\n",
       "      <th>Heure Arrivée</th>\n",
       "      <th>Nb vehicles</th>\n",
       "    </tr>\n",
       "  </thead>\n",
       "  <tbody>\n",
       "    <tr>\n",
       "      <th>0</th>\n",
       "      <td>2023-01-05 05:00:00</td>\n",
       "      <td>10</td>\n",
       "    </tr>\n",
       "    <tr>\n",
       "      <th>1</th>\n",
       "      <td>2023-01-05 06:00:00</td>\n",
       "      <td>52</td>\n",
       "    </tr>\n",
       "    <tr>\n",
       "      <th>2</th>\n",
       "      <td>2023-01-05 07:00:00</td>\n",
       "      <td>90</td>\n",
       "    </tr>\n",
       "    <tr>\n",
       "      <th>3</th>\n",
       "      <td>2023-01-05 08:00:00</td>\n",
       "      <td>73</td>\n",
       "    </tr>\n",
       "    <tr>\n",
       "      <th>4</th>\n",
       "      <td>2023-01-05 09:00:00</td>\n",
       "      <td>134</td>\n",
       "    </tr>\n",
       "  </tbody>\n",
       "</table>\n",
       "</div>"
      ],
      "text/plain": [
       "        Heure Arrivée  Nb vehicles\n",
       "0 2023-01-05 05:00:00           10\n",
       "1 2023-01-05 06:00:00           52\n",
       "2 2023-01-05 07:00:00           90\n",
       "3 2023-01-05 08:00:00           73\n",
       "4 2023-01-05 09:00:00          134"
      ]
     },
     "execution_count": 22,
     "metadata": {},
     "output_type": "execute_result"
    }
   ],
   "source": [
    "# binning: hour\n",
    "genuine_data = genuine_data.sort_values(\"Heure Arrivée\", ascending=True)\n",
    "genuine_data.set_index(\"Heure Arrivée\", inplace=True)\n",
    "genuine_data = genuine_data.resample(\"1h\").count().dropna().reset_index()\n",
    "genuine_data = genuine_data.rename(columns={\"Categorie\": \"Nb vehicles\"})\n",
    "genuine_data.head()"
   ]
  },
  {
   "cell_type": "markdown",
   "id": "dd7c67f5-3871-415a-813f-b4fe79adfad8",
   "metadata": {},
   "source": [
    "__Synthetic__"
   ]
  },
  {
   "cell_type": "code",
   "execution_count": 23,
   "id": "6809a426-d5ee-448e-8039-fcd015ddb57c",
   "metadata": {},
   "outputs": [
    {
     "data": {
      "text/html": [
       "<div>\n",
       "<style scoped>\n",
       "    .dataframe tbody tr th:only-of-type {\n",
       "        vertical-align: middle;\n",
       "    }\n",
       "\n",
       "    .dataframe tbody tr th {\n",
       "        vertical-align: top;\n",
       "    }\n",
       "\n",
       "    .dataframe thead th {\n",
       "        text-align: right;\n",
       "    }\n",
       "</style>\n",
       "<table border=\"1\" class=\"dataframe\">\n",
       "  <thead>\n",
       "    <tr style=\"text-align: right;\">\n",
       "      <th></th>\n",
       "      <th>Heure Arrivée</th>\n",
       "      <th>Categorie</th>\n",
       "    </tr>\n",
       "  </thead>\n",
       "  <tbody>\n",
       "    <tr>\n",
       "      <th>483</th>\n",
       "      <td>2025-03-20 05:05:17</td>\n",
       "      <td>vehicle</td>\n",
       "    </tr>\n",
       "    <tr>\n",
       "      <th>270</th>\n",
       "      <td>2025-03-20 05:05:54</td>\n",
       "      <td>vehicle</td>\n",
       "    </tr>\n",
       "    <tr>\n",
       "      <th>184</th>\n",
       "      <td>2025-03-20 05:08:23</td>\n",
       "      <td>vehicle</td>\n",
       "    </tr>\n",
       "    <tr>\n",
       "      <th>591</th>\n",
       "      <td>2025-03-20 05:09:23</td>\n",
       "      <td>vehicle</td>\n",
       "    </tr>\n",
       "    <tr>\n",
       "      <th>546</th>\n",
       "      <td>2025-03-20 05:10:43</td>\n",
       "      <td>vehicle</td>\n",
       "    </tr>\n",
       "  </tbody>\n",
       "</table>\n",
       "</div>"
      ],
      "text/plain": [
       "          Heure Arrivée Categorie\n",
       "483 2025-03-20 05:05:17   vehicle\n",
       "270 2025-03-20 05:05:54   vehicle\n",
       "184 2025-03-20 05:08:23   vehicle\n",
       "591 2025-03-20 05:09:23   vehicle\n",
       "546 2025-03-20 05:10:43   vehicle"
      ]
     },
     "execution_count": 23,
     "metadata": {},
     "output_type": "execute_result"
    }
   ],
   "source": [
    "# merge vehicle categories  \n",
    "synthetic_data = synthetic_data.drop([\"Camion ID\", \"PCJ ID\", \"Heure Départ\", \"Destination\", \"Origine\"], axis=\"columns\", errors=\"ignore\")\n",
    "synthetic_data = synthetic_data.astype({\"Categorie\": \"category\"})\n",
    "synthetic_data[\"Categorie\"] = \"vehicle\"\n",
    "synthetic_data.head()"
   ]
  },
  {
   "cell_type": "code",
   "execution_count": 24,
   "id": "89f39474-b761-4aa0-96c0-792a0ad8ac36",
   "metadata": {},
   "outputs": [
    {
     "data": {
      "text/html": [
       "<div>\n",
       "<style scoped>\n",
       "    .dataframe tbody tr th:only-of-type {\n",
       "        vertical-align: middle;\n",
       "    }\n",
       "\n",
       "    .dataframe tbody tr th {\n",
       "        vertical-align: top;\n",
       "    }\n",
       "\n",
       "    .dataframe thead th {\n",
       "        text-align: right;\n",
       "    }\n",
       "</style>\n",
       "<table border=\"1\" class=\"dataframe\">\n",
       "  <thead>\n",
       "    <tr style=\"text-align: right;\">\n",
       "      <th></th>\n",
       "      <th>Heure Arrivée</th>\n",
       "      <th>Nb vehicles</th>\n",
       "    </tr>\n",
       "  </thead>\n",
       "  <tbody>\n",
       "    <tr>\n",
       "      <th>0</th>\n",
       "      <td>2025-03-20 05:00:00</td>\n",
       "      <td>34</td>\n",
       "    </tr>\n",
       "    <tr>\n",
       "      <th>1</th>\n",
       "      <td>2025-03-20 06:00:00</td>\n",
       "      <td>29</td>\n",
       "    </tr>\n",
       "    <tr>\n",
       "      <th>2</th>\n",
       "      <td>2025-03-20 07:00:00</td>\n",
       "      <td>223</td>\n",
       "    </tr>\n",
       "    <tr>\n",
       "      <th>3</th>\n",
       "      <td>2025-03-20 08:00:00</td>\n",
       "      <td>144</td>\n",
       "    </tr>\n",
       "    <tr>\n",
       "      <th>4</th>\n",
       "      <td>2025-03-20 09:00:00</td>\n",
       "      <td>149</td>\n",
       "    </tr>\n",
       "  </tbody>\n",
       "</table>\n",
       "</div>"
      ],
      "text/plain": [
       "        Heure Arrivée  Nb vehicles\n",
       "0 2025-03-20 05:00:00           34\n",
       "1 2025-03-20 06:00:00           29\n",
       "2 2025-03-20 07:00:00          223\n",
       "3 2025-03-20 08:00:00          144\n",
       "4 2025-03-20 09:00:00          149"
      ]
     },
     "execution_count": 24,
     "metadata": {},
     "output_type": "execute_result"
    }
   ],
   "source": [
    "# binning: hour\n",
    "synthetic_data = synthetic_data.sort_values(\"Heure Arrivée\", ascending=True)\n",
    "synthetic_data.set_index(\"Heure Arrivée\", inplace=True)\n",
    "synthetic_data = synthetic_data.resample(\"1h\").count().dropna().reset_index()\n",
    "synthetic_data = synthetic_data.rename(columns={\"Categorie\": \"Nb vehicles\"})\n",
    "synthetic_data.head()"
   ]
  },
  {
   "cell_type": "markdown",
   "id": "f4694551-f2e7-46fa-b77f-1af0c65a4d6e",
   "metadata": {},
   "source": [
    "__Plot genuine__"
   ]
  },
  {
   "cell_type": "code",
   "execution_count": 25,
   "id": "8bb5ca39-8fcb-4d87-8f72-50babf8cc86e",
   "metadata": {},
   "outputs": [
    {
     "data": {
      "text/plain": [
       "<Axes: title={'center': 'Genuine data'}, xlabel='Heure Arrivée'>"
      ]
     },
     "execution_count": 25,
     "metadata": {},
     "output_type": "execute_result"
    },
    {
     "data": {
      "image/png": "[encoded data removed]",
      "text/plain": [
       "<Figure size 800x300 with 1 Axes>"
      ]
     },
     "metadata": {},
     "output_type": "display_data"
    }
   ],
   "source": [
    "genuine_data.set_index(\"Heure Arrivée\", inplace=True)\n",
    "genuine_data.plot(title=\"Genuine data\", figsize=(8,3))"
   ]
  },
  {
   "cell_type": "markdown",
   "id": "bb3a89d0-fc08-44e4-a5e8-3fcd84e2d7b4",
   "metadata": {},
   "source": [
    "__Plot synthetic__"
   ]
  },
  {
   "cell_type": "code",
   "execution_count": 26,
   "id": "cabe81f9-c807-4b42-9690-9af286b2091e",
   "metadata": {},
   "outputs": [
    {
     "data": {
      "text/plain": [
       "<Axes: title={'center': 'Synthetic data'}, xlabel='Heure Arrivée'>"
      ]
     },
     "execution_count": 26,
     "metadata": {},
     "output_type": "execute_result"
    },
    {
     "data": {
      "image/png": "[encoded data removed]",
      "text/plain": [
       "<Figure size 800x300 with 1 Axes>"
      ]
     },
     "metadata": {},
     "output_type": "display_data"
    }
   ],
   "source": [
    "synthetic_data.set_index(\"Heure Arrivée\", inplace=True)\n",
    "synthetic_data.plot(title=\"Synthetic data\", figsize=(8,3))"
   ]
  },
  {
   "cell_type": "markdown",
   "id": "0877379f-8b9c-43d2-944c-7647984707a7",
   "metadata": {},
   "source": [
    "__Compare other statistics__ "
   ]
  },
  {
   "cell_type": "code",
   "execution_count": 27,
   "id": "93bfa977-ffef-4e6c-86c6-853aa0e343cf",
   "metadata": {},
   "outputs": [
    {
     "data": {
      "text/html": [
       "<div>\n",
       "<style scoped>\n",
       "    .dataframe tbody tr th:only-of-type {\n",
       "        vertical-align: middle;\n",
       "    }\n",
       "\n",
       "    .dataframe tbody tr th {\n",
       "        vertical-align: top;\n",
       "    }\n",
       "\n",
       "    .dataframe thead th {\n",
       "        text-align: right;\n",
       "    }\n",
       "</style>\n",
       "<table border=\"1\" class=\"dataframe\">\n",
       "  <thead>\n",
       "    <tr style=\"text-align: right;\">\n",
       "      <th></th>\n",
       "      <th>Heure Arrivée</th>\n",
       "      <th>Nb vehicles</th>\n",
       "    </tr>\n",
       "  </thead>\n",
       "  <tbody>\n",
       "    <tr>\n",
       "      <th>count</th>\n",
       "      <td>16</td>\n",
       "      <td>16.000000</td>\n",
       "    </tr>\n",
       "    <tr>\n",
       "      <th>mean</th>\n",
       "      <td>2023-01-05 12:30:00</td>\n",
       "      <td>44.875000</td>\n",
       "    </tr>\n",
       "    <tr>\n",
       "      <th>min</th>\n",
       "      <td>2023-01-05 05:00:00</td>\n",
       "      <td>0.000000</td>\n",
       "    </tr>\n",
       "    <tr>\n",
       "      <th>25%</th>\n",
       "      <td>2023-01-05 08:45:00</td>\n",
       "      <td>22.000000</td>\n",
       "    </tr>\n",
       "    <tr>\n",
       "      <th>50%</th>\n",
       "      <td>2023-01-05 12:30:00</td>\n",
       "      <td>46.000000</td>\n",
       "    </tr>\n",
       "    <tr>\n",
       "      <th>75%</th>\n",
       "      <td>2023-01-05 16:15:00</td>\n",
       "      <td>57.000000</td>\n",
       "    </tr>\n",
       "    <tr>\n",
       "      <th>max</th>\n",
       "      <td>2023-01-05 20:00:00</td>\n",
       "      <td>134.000000</td>\n",
       "    </tr>\n",
       "    <tr>\n",
       "      <th>std</th>\n",
       "      <td>NaN</td>\n",
       "      <td>35.253132</td>\n",
       "    </tr>\n",
       "  </tbody>\n",
       "</table>\n",
       "</div>"
      ],
      "text/plain": [
       "             Heure Arrivée  Nb vehicles\n",
       "count                   16    16.000000\n",
       "mean   2023-01-05 12:30:00    44.875000\n",
       "min    2023-01-05 05:00:00     0.000000\n",
       "25%    2023-01-05 08:45:00    22.000000\n",
       "50%    2023-01-05 12:30:00    46.000000\n",
       "75%    2023-01-05 16:15:00    57.000000\n",
       "max    2023-01-05 20:00:00   134.000000\n",
       "std                    NaN    35.253132"
      ]
     },
     "execution_count": 27,
     "metadata": {},
     "output_type": "execute_result"
    }
   ],
   "source": [
    "genuine_data = genuine_data.reset_index()\n",
    "genuine_data.describe()"
   ]
  },
  {
   "cell_type": "code",
   "execution_count": 29,
   "id": "78822266-40c6-493e-a0ac-c240c1df8aaf",
   "metadata": {},
   "outputs": [
    {
     "data": {
      "text/html": [
       "<div>\n",
       "<style scoped>\n",
       "    .dataframe tbody tr th:only-of-type {\n",
       "        vertical-align: middle;\n",
       "    }\n",
       "\n",
       "    .dataframe tbody tr th {\n",
       "        vertical-align: top;\n",
       "    }\n",
       "\n",
       "    .dataframe thead th {\n",
       "        text-align: right;\n",
       "    }\n",
       "</style>\n",
       "<table border=\"1\" class=\"dataframe\">\n",
       "  <thead>\n",
       "    <tr style=\"text-align: right;\">\n",
       "      <th></th>\n",
       "      <th>Heure Arrivée</th>\n",
       "      <th>Nb vehicles</th>\n",
       "    </tr>\n",
       "  </thead>\n",
       "  <tbody>\n",
       "    <tr>\n",
       "      <th>count</th>\n",
       "      <td>16</td>\n",
       "      <td>16.000000</td>\n",
       "    </tr>\n",
       "    <tr>\n",
       "      <th>mean</th>\n",
       "      <td>2025-03-20 12:30:00</td>\n",
       "      <td>60.250000</td>\n",
       "    </tr>\n",
       "    <tr>\n",
       "      <th>min</th>\n",
       "      <td>2025-03-20 05:00:00</td>\n",
       "      <td>0.000000</td>\n",
       "    </tr>\n",
       "    <tr>\n",
       "      <th>25%</th>\n",
       "      <td>2025-03-20 08:45:00</td>\n",
       "      <td>21.750000</td>\n",
       "    </tr>\n",
       "    <tr>\n",
       "      <th>50%</th>\n",
       "      <td>2025-03-20 12:30:00</td>\n",
       "      <td>42.000000</td>\n",
       "    </tr>\n",
       "    <tr>\n",
       "      <th>75%</th>\n",
       "      <td>2025-03-20 16:15:00</td>\n",
       "      <td>73.000000</td>\n",
       "    </tr>\n",
       "    <tr>\n",
       "      <th>max</th>\n",
       "      <td>2025-03-20 20:00:00</td>\n",
       "      <td>223.000000</td>\n",
       "    </tr>\n",
       "    <tr>\n",
       "      <th>std</th>\n",
       "      <td>NaN</td>\n",
       "      <td>62.920585</td>\n",
       "    </tr>\n",
       "  </tbody>\n",
       "</table>\n",
       "</div>"
      ],
      "text/plain": [
       "             Heure Arrivée  Nb vehicles\n",
       "count                   16    16.000000\n",
       "mean   2025-03-20 12:30:00    60.250000\n",
       "min    2025-03-20 05:00:00     0.000000\n",
       "25%    2025-03-20 08:45:00    21.750000\n",
       "50%    2025-03-20 12:30:00    42.000000\n",
       "75%    2025-03-20 16:15:00    73.000000\n",
       "max    2025-03-20 20:00:00   223.000000\n",
       "std                    NaN    62.920585"
      ]
     },
     "execution_count": 29,
     "metadata": {},
     "output_type": "execute_result"
    }
   ],
   "source": [
    "synthetic_data = synthetic_data.reset_index()\n",
    "synthetic_data.describe()"
   ]
  },
  {
   "cell_type": "code",
   "execution_count": null,
   "id": "1df4040a-e004-43c6-a575-774b7fe854e6",
   "metadata": {},
   "outputs": [],
   "source": []
  }
 ],
 "metadata": {
  "kernelspec": {
   "display_name": "poc-ia-predict-truck-flow-scanning-systems-py3.11",
   "language": "python",
   "name": "poc-ia-predict-truck-flow-scanning-systems-py3.11"
  },
  "language_info": {
   "codemirror_mode": {
    "name": "ipython",
    "version": 3
   },
   "file_extension": ".py",
   "mimetype": "text/x-python",
   "name": "python",
   "nbconvert_exporter": "python",
   "pygments_lexer": "ipython3",
   "version": "3.11.2"
  }
 },
 "nbformat": 4,
 "nbformat_minor": 5
}
